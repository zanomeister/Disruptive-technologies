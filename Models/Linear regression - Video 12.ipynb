{
 "cells": [
  {
   "cell_type": "markdown",
   "metadata": {},
   "source": [
    "# Linear regression - Video 12"
   ]
  },
  {
   "cell_type": "raw",
   "metadata": {},
   "source": [
    "The dataset from the video is not available online so I'll only write the code without executing it.\n",
    "\n",
    "        import numpy as np\n",
    "        import pandas as pd\n",
    "        import matplotlib.pyplot as plt\n",
    "        import seaborn as sns\n",
    "        %matplotlib inline\n",
    "\n",
    "        companies = pd.read_csv(\"Companies.csv\")\n",
    "        X = companies.iloc[:, :-1].values\n",
    "        y = companies.iloc[:, 4].values\n",
    "        \n",
    "        companies.head()\n",
    "        \n",
    "        \n",
    "       # data visualization  - correlation matrix\n",
    "       sns.heatmap(companies.corr())\n",
    "       \n",
    "       \n",
    "       # Encoding categorical data\n",
    "           # the third column in the dataset is categorical\n",
    "           # linear regression does not know how to process categorical data\n",
    "           # we need to change values to numbers\n",
    "       from sklearn.preprocessing import LabelEncoder, OneHotEncoder\n",
    "       labelencoder = LabelEncoder()\n",
    "       \n",
    "       # this line changes categorical values to numbers\n",
    "       X[:, 3] = labelencoder.fit_transform(X[:, 3])\n",
    "       \n",
    "       # One Hot Encoder\n",
    "           # makes binarization of integer categories\n",
    "           # creates a new column for every category\n",
    "               # puts 1 if is in category\n",
    "               # 0 if isn't\n",
    "       onehotencoder = OneHotEncoder(categorical_features = [3])\n",
    "       \n",
    "       # preparates the data to be a row of numbers\n",
    "       X = onehotencoder.fit_transform(X).toarray()\n",
    "       \n",
    "       \n",
    "       # Avoiding dummy variable trap:\n",
    "       X = X[:, 1:]\n",
    "       \n",
    "       \n",
    "       \n",
    "       # Splitting the data into train and test set\n",
    "       from sklearn.model selection import train_test_split\n",
    "       X_train, X_test, y_train, y_test = train_test_split(X, y, test_size=0.2)\n",
    "       \n",
    "       \n",
    "       \n",
    "       # Fitting Multiple Linear Regression Model to Training set:\n",
    "       from sklearn.linear_model import LinearRegression\n",
    "       model_fit = LinearRegression()\n",
    "       model_fit.fit(X_train, y_train)\n",
    "       \n",
    "       \n",
    "       \n",
    "       # Making predictions\n",
    "       y_pred = model_fit.predict(X_test)\n",
    "       \n",
    "       \n",
    "       \n",
    "       # Calculating coefficients and the intercept\n",
    "       print(model_fit.coef_)\n",
    "       print(model_fit.intercept_)\n",
    "       \n",
    "       \n",
    "       \n",
    "       # Calculating the R squared value\n",
    "           # tells us how good the prediction is\n",
    "           # not a percentage, but should be above 0.9\n",
    "       from sklearn.metrics import r2_score\n",
    "       r2_score(y_test, y_pred)"
   ]
  },
  {
   "cell_type": "code",
   "execution_count": null,
   "metadata": {},
   "outputs": [],
   "source": []
  }
 ],
 "metadata": {
  "kernelspec": {
   "display_name": "Python 3",
   "language": "python",
   "name": "python3"
  },
  "language_info": {
   "codemirror_mode": {
    "name": "ipython",
    "version": 3
   },
   "file_extension": ".py",
   "mimetype": "text/x-python",
   "name": "python",
   "nbconvert_exporter": "python",
   "pygments_lexer": "ipython3",
   "version": "3.6.8"
  }
 },
 "nbformat": 4,
 "nbformat_minor": 2
}
