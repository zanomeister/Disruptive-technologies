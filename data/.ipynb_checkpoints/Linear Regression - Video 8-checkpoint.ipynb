{
 "cells": [
  {
   "cell_type": "markdown",
   "metadata": {},
   "source": [
    "# Linear regression demo\n",
    "\n",
    "## Video 7\n",
    "\n",
    "Housing prices"
   ]
  },
  {
   "cell_type": "code",
   "execution_count": 1,
   "metadata": {},
   "outputs": [],
   "source": [
    "import matplotlib.pyplot as plt\n",
    "import numpy as np\n",
    "from sklearn import datasets, linear_model"
   ]
  },
  {
   "cell_type": "code",
   "execution_count": 2,
   "metadata": {},
   "outputs": [],
   "source": [
    "# loead dataset\n",
    "house_price = [245, 312, 279, 308, 199, 219, 405, 324, 319, 255]\n",
    "size = [1400, 1600, 1700, 1875, 1100, 1550, 2350, 2450, 1425, 1700]"
   ]
  },
  {
   "cell_type": "code",
   "execution_count": 10,
   "metadata": {},
   "outputs": [],
   "source": [
    "# Reshape the input to your regression\n",
    "\n",
    "size2 = np.array(size).reshape((-1, 1))\n"
   ]
  },
  {
   "cell_type": "code",
   "execution_count": 11,
   "metadata": {},
   "outputs": [
    {
     "name": "stdout",
     "output_type": "stream",
     "text": [
      "[1400, 1600, 1700, 1875, 1100, 1550, 2350, 2450, 1425, 1700]\n",
      "[[1400]\n",
      " [1600]\n",
      " [1700]\n",
      " [1875]\n",
      " [1100]\n",
      " [1550]\n",
      " [2350]\n",
      " [2450]\n",
      " [1425]\n",
      " [1700]]\n"
     ]
    }
   ],
   "source": [
    "print(size)\n",
    "print(size2)"
   ]
  },
  {
   "cell_type": "code",
   "execution_count": 12,
   "metadata": {},
   "outputs": [
    {
     "name": "stdout",
     "output_type": "stream",
     "text": [
      "Coefficients: \n",
      " [0.10976774]\n",
      "intercept: \n",
      " 98.24832962138083\n"
     ]
    }
   ],
   "source": [
    "# By using fit module in linear regression, user can fit the data frequently and quickly\n",
    "regr = linear_model.LinearRegression()\n",
    "regr.fit(size2, house_price)\n",
    "print(\"Coefficients: \\n\", regr.coef_)\n",
    "print(\"intercept: \\n\", regr.intercept_)"
   ]
  },
  {
   "cell_type": "code",
   "execution_count": 14,
   "metadata": {},
   "outputs": [
    {
     "name": "stdout",
     "output_type": "stream",
     "text": [
      "[251.92316258]\n"
     ]
    }
   ],
   "source": [
    "size_new= 1400\n",
    "price = (size_new * regr.coef_) + regr.intercept_\n",
    "print(price)"
   ]
  },
  {
   "cell_type": "code",
   "execution_count": 15,
   "metadata": {},
   "outputs": [
    {
     "name": "stdout",
     "output_type": "stream",
     "text": [
      "[251.92316258]\n",
      "[251.92316258]\n"
     ]
    }
   ],
   "source": [
    "size_new= 1400\n",
    "price2 = (size_new * regr.coef_) + regr.intercept_\n",
    "print(price2)\n",
    "print(regr.predict([[size_new]]))"
   ]
  },
  {
   "cell_type": "code",
   "execution_count": 18,
   "metadata": {},
   "outputs": [
    {
     "data": {
      "image/png": "[encoded data removed]",
      "text/plain": [
       "<Figure size 432x288 with 1 Axes>"
      ]
     },
     "metadata": {
      "needs_background": "light"
     },
     "output_type": "display_data"
    }
   ],
   "source": [
    "#Formula obtained for the trained model\n",
    "\n",
    "def graph(formula, x_range):\n",
    "    x = np.array(x_range)\n",
    "    y = eval(formula)\n",
    "    plt.plot(x,y)\n",
    "    \n",
    "# Plotting the prediction line\n",
    "graph('regr.coef_*x + regr.intercept_', range(1000, 2700))\n",
    "plt.scatter (size, house_price, color='black')\n",
    "plt.ylabel('House price')\n",
    "plt.xlabel('Size of house')\n",
    "plt.show()"
   ]
  },
  {
   "cell_type": "code",
   "execution_count": null,
   "metadata": {},
   "outputs": [],
   "source": []
  }
 ],
 "metadata": {
  "kernelspec": {
   "display_name": "Python 3",
   "language": "python",
   "name": "python3"
  },
  "language_info": {
   "codemirror_mode": {
    "name": "ipython",
    "version": 3
   },
   "file_extension": ".py",
   "mimetype": "text/x-python",
   "name": "python",
   "nbconvert_exporter": "python",
   "pygments_lexer": "ipython3",
   "version": "3.6.8"
  }
 },
 "nbformat": 4,
 "nbformat_minor": 2
}
