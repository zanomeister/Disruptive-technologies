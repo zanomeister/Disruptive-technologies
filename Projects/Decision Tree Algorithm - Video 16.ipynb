{
 "cells": [
  {
   "cell_type": "markdown",
   "metadata": {},
   "source": [
    "# Decision Tree Algorithm\n",
    "\n",
    "## Video 16. \n",
    "\n",
    "### Use Case - Loan Repayment Prediction\n",
    "- Individual says: *I need to find out if my customers are going to return the loan they took from my bank or not*\n",
    "- Predict if a customer will repay loan amount or not using decision tree algorithm in Python"
   ]
  },
  {
   "cell_type": "markdown",
   "metadata": {},
   "source": [
    "We'll import the libraries\n",
    "\n",
    "        import numpy as np\n",
    "        import pandas as pd\n",
    "        from sklearn.model_selection import train_test_split\n",
    "        from sklearn.tree import DecisionTreeClassifier\n",
    "        from sklearn.metrics import accuracy_score\n",
    "        from sklearn import tree\n",
    "        \n",
    "Link to the dataset\n",
    "\n",
    "        data = pd.read_csv(\"data\")\n",
    "        \n",
    "Separating the target variables\n",
    "\n",
    "        X = data.values[:, 1:5]\n",
    "        Y = data.values[:, 0]\n",
    "        \n",
    "Splitting dataset into training and test\n",
    "\n",
    "        X_train, X_test, y_train, y_test = train_test_split(X, y, test_size=0.3)\n",
    "        \n",
    "Function to perform training with Entropy\n",
    "\n",
    "        clf_entropy = DecisionTreeClassifier(criterion=\"entropy\", max_depth=3, min_samples_leaf=5)\n",
    "        clf_entropy.fit(X_train, y_train)\n",
    "        \n",
    "Function to make Prediction\n",
    "\n",
    "        y_pred = clf_entropy.predict(X_test)\n",
    "        \n",
    "Checking accuracy\n",
    "\n",
    "        print(\"Accuracy is: {}\".format(accuracy_score(y_test, y_pred) * 100))"
   ]
  },
  {
   "cell_type": "code",
   "execution_count": null,
   "metadata": {},
   "outputs": [],
   "source": []
  }
 ],
 "metadata": {
  "kernelspec": {
   "display_name": "Python 3",
   "language": "python",
   "name": "python3"
  },
  "language_info": {
   "codemirror_mode": {
    "name": "ipython",
    "version": 3
   },
   "file_extension": ".py",
   "mimetype": "text/x-python",
   "name": "python",
   "nbconvert_exporter": "python",
   "pygments_lexer": "ipython3",
   "version": "3.6.8"
  }
 },
 "nbformat": 4,
 "nbformat_minor": 2
}
